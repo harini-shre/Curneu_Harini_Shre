{
  "nbformat": 4,
  "nbformat_minor": 0,
  "metadata": {
    "colab": {
      "name": "I-Task.01.curneudataset1.ipynb",
      "provenance": [],
      "collapsed_sections": [],
      "authorship_tag": "ABX9TyNTssZoGog3jpAj3OEOJgZC",
      "include_colab_link": true
    },
    "kernelspec": {
      "name": "python3",
      "display_name": "Python 3"
    }
  },
  "cells": [
    {
      "cell_type": "markdown",
      "metadata": {
        "id": "view-in-github",
        "colab_type": "text"
      },
      "source": [
        "<a href=\"https://colab.research.google.com/github/harini-shre/Curneu_Harini_Shre/blob/master/I_Task_01_curneudataset1.ipynb\" target=\"_parent\"><img src=\"https://colab.research.google.com/assets/colab-badge.svg\" alt=\"Open In Colab\"/></a>"
      ]
    },
    {
      "cell_type": "code",
      "metadata": {
        "id": "SUlwy6glLCfh",
        "colab_type": "code",
        "outputId": "27e3cb8a-3de8-495a-efdf-4fdbb4993851",
        "colab": {
          "resources": {
            "http://localhost:8080/nbextensions/google.colab/files.js": {
              "data": "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",
              "ok": true,
              "headers": [
                [
                  "content-type",
                  "application/javascript"
                ]
              ],
              "status": 200,
              "status_text": ""
            }
          },
          "base_uri": "https://localhost:8080/",
          "height": 73
        }
      },
      "source": [
        "from google.colab import files\n",
        "uploaded = files.upload()"
      ],
      "execution_count": 0,
      "outputs": [
        {
          "output_type": "display_data",
          "data": {
            "text/html": [
              "\n",
              "     <input type=\"file\" id=\"files-4f1cba8b-ccc5-4743-b995-49d4a4b74867\" name=\"files[]\" multiple disabled />\n",
              "     <output id=\"result-4f1cba8b-ccc5-4743-b995-49d4a4b74867\">\n",
              "      Upload widget is only available when the cell has been executed in the\n",
              "      current browser session. Please rerun this cell to enable.\n",
              "      </output>\n",
              "      <script src=\"/nbextensions/google.colab/files.js\"></script> "
            ],
            "text/plain": [
              "<IPython.core.display.HTML object>"
            ]
          },
          "metadata": {
            "tags": []
          }
        },
        {
          "output_type": "stream",
          "text": [
            "Saving User1data.csv to User1data.csv\n"
          ],
          "name": "stdout"
        }
      ]
    },
    {
      "cell_type": "code",
      "metadata": {
        "id": "dYUkSZM_LYhA",
        "colab_type": "code",
        "outputId": "34ecd298-d222-4951-9154-6dff5bda527a",
        "colab": {
          "base_uri": "https://localhost:8080/",
          "height": 197
        }
      },
      "source": [
        "import pandas as pd\n",
        "data1 = pd.read_csv('User1data.csv')\n",
        "data1.head()"
      ],
      "execution_count": 0,
      "outputs": [
        {
          "output_type": "execute_result",
          "data": {
            "text/html": [
              "<div>\n",
              "<style scoped>\n",
              "    .dataframe tbody tr th:only-of-type {\n",
              "        vertical-align: middle;\n",
              "    }\n",
              "\n",
              "    .dataframe tbody tr th {\n",
              "        vertical-align: top;\n",
              "    }\n",
              "\n",
              "    .dataframe thead th {\n",
              "        text-align: right;\n",
              "    }\n",
              "</style>\n",
              "<table border=\"1\" class=\"dataframe\">\n",
              "  <thead>\n",
              "    <tr style=\"text-align: right;\">\n",
              "      <th></th>\n",
              "      <th>User_Id</th>\n",
              "      <th>Patient_Id</th>\n",
              "      <th>Symptom1</th>\n",
              "      <th>Symptom2</th>\n",
              "      <th>Recommended</th>\n",
              "      <th>Selected</th>\n",
              "    </tr>\n",
              "  </thead>\n",
              "  <tbody>\n",
              "    <tr>\n",
              "      <th>0</th>\n",
              "      <td>1001</td>\n",
              "      <td>1</td>\n",
              "      <td>Sinusitis</td>\n",
              "      <td>Tonsillitis</td>\n",
              "      <td>Baihui(DU20)</td>\n",
              "      <td>BaihuiDU20</td>\n",
              "    </tr>\n",
              "    <tr>\n",
              "      <th>1</th>\n",
              "      <td>1001</td>\n",
              "      <td>1</td>\n",
              "      <td>Sinusitis</td>\n",
              "      <td>Tonsillitis</td>\n",
              "      <td>Dazhui(DU14)</td>\n",
              "      <td>DazhuiDU14</td>\n",
              "    </tr>\n",
              "    <tr>\n",
              "      <th>2</th>\n",
              "      <td>1001</td>\n",
              "      <td>1</td>\n",
              "      <td>Sinusitis</td>\n",
              "      <td>Tonsillitis</td>\n",
              "      <td>Hegu(LI4)</td>\n",
              "      <td>HeguLI4</td>\n",
              "    </tr>\n",
              "    <tr>\n",
              "      <th>3</th>\n",
              "      <td>1001</td>\n",
              "      <td>1</td>\n",
              "      <td>Sinusitis</td>\n",
              "      <td>Tonsillitis</td>\n",
              "      <td>Quanliao(SI18)</td>\n",
              "      <td>QuchiLI11</td>\n",
              "    </tr>\n",
              "    <tr>\n",
              "      <th>4</th>\n",
              "      <td>1001</td>\n",
              "      <td>1</td>\n",
              "      <td>Sinusitis</td>\n",
              "      <td>Tonsillitis</td>\n",
              "      <td>Quchi(LI11)</td>\n",
              "      <td>SanyinjiaoSP6</td>\n",
              "    </tr>\n",
              "  </tbody>\n",
              "</table>\n",
              "</div>"
            ],
            "text/plain": [
              "   User_Id  Patient_Id   Symptom1     Symptom2     Recommended       Selected\n",
              "0     1001           1  Sinusitis  Tonsillitis    Baihui(DU20)     BaihuiDU20\n",
              "1     1001           1  Sinusitis  Tonsillitis    Dazhui(DU14)     DazhuiDU14\n",
              "2     1001           1  Sinusitis  Tonsillitis       Hegu(LI4)        HeguLI4\n",
              "3     1001           1  Sinusitis  Tonsillitis  Quanliao(SI18)      QuchiLI11\n",
              "4     1001           1  Sinusitis  Tonsillitis     Quchi(LI11)  SanyinjiaoSP6"
            ]
          },
          "metadata": {
            "tags": []
          },
          "execution_count": 20
        }
      ]
    },
    {
      "cell_type": "code",
      "metadata": {
        "id": "2zknCzR2LYwk",
        "colab_type": "code",
        "outputId": "05ff5e02-9791-4c83-df4c-dc4943dfa4dc",
        "colab": {
          "base_uri": "https://localhost:8080/",
          "height": 204
        }
      },
      "source": [
        "data1.info()"
      ],
      "execution_count": 0,
      "outputs": [
        {
          "output_type": "stream",
          "text": [
            "<class 'pandas.core.frame.DataFrame'>\n",
            "RangeIndex: 946 entries, 0 to 945\n",
            "Data columns (total 6 columns):\n",
            "User_Id        946 non-null int64\n",
            "Patient_Id     946 non-null int64\n",
            "Symptom1       946 non-null object\n",
            "Symptom2       946 non-null object\n",
            "Recommended    946 non-null object\n",
            "Selected       310 non-null object\n",
            "dtypes: int64(2), object(4)\n",
            "memory usage: 44.5+ KB\n"
          ],
          "name": "stdout"
        }
      ]
    },
    {
      "cell_type": "code",
      "metadata": {
        "id": "eU6elrdULY15",
        "colab_type": "code",
        "colab": {}
      },
      "source": [
        "data1['new_Selected'] = data1['Selected'].astype('str')"
      ],
      "execution_count": 0,
      "outputs": []
    },
    {
      "cell_type": "code",
      "metadata": {
        "id": "4khUJKe4LY75",
        "colab_type": "code",
        "outputId": "f940c1ad-a432-475d-bd30-c4c1f59f0cd3",
        "colab": {
          "base_uri": "https://localhost:8080/",
          "height": 34
        }
      },
      "source": [
        "'''\n",
        "# number [1-9] are they are neither toupper or tolower\n",
        "num=['0','1','2','3','4','5','6','7','8','9']\n",
        "def Selection_Edit(str1):\n",
        "    lengt= len(str1)\n",
        "    for i in range((lengt-1),-1,-1):\n",
        "        #print(str1[i])\n",
        "        if(str1[i] not in num):\n",
        "            #print(\"hi\")\n",
        "            str7=str1[i].islower()\n",
        "            #print(i)\n",
        "            if(str7 == True):\n",
        "                str1=str1[i+1:]\n",
        "                return str1           \n",
        "\n",
        "str6='BaihaiDU20'\n",
        "Selection_Edit(str6)"
      ],
      "execution_count": 0,
      "outputs": [
        {
          "output_type": "execute_result",
          "data": {
            "text/plain": [
              "'DU20'"
            ]
          },
          "metadata": {
            "tags": []
          },
          "execution_count": 15
        }
      ]
    },
    {
      "cell_type": "code",
      "metadata": {
        "id": "JBTZvEpqLY_u",
        "colab_type": "code",
        "colab": {}
      },
      "source": [
        ""
      ],
      "execution_count": 0,
      "outputs": []
    },
    {
      "cell_type": "code",
      "metadata": {
        "id": "PKFoTNbQLZDf",
        "colab_type": "code",
        "outputId": "488c2e12-9b54-40a2-c768-fe3ee7f94497",
        "colab": {
          "base_uri": "https://localhost:8080/",
          "height": 34
        }
      },
      "source": [
        "# number [1-9] are they are neither toupper or tolower\n",
        "num=['0','1','2','3','4','5','6','7','8','9']\n",
        "def Selection_Edit(str1):\n",
        "    count =0\n",
        "    \n",
        "    lengt= len(str1)\n",
        "    for i in range((lengt-1),-1,-1):\n",
        "        #print(str1[i])\n",
        "        if(str1[i] not in num):\n",
        "            #print(\"hi\")\n",
        "            str8=str1[i].isupper()\n",
        "            if(str8 == True):\n",
        "                count = count +1\n",
        "            str7=str1[i].islower()\n",
        "            #print(i)\n",
        "            if(str7 == True and count !=0):\n",
        "                str1=str1[i+1:]\n",
        "                count =0\n",
        "                return str1           \n",
        "\n",
        "str6='BaihaiDU20'\n",
        "Selection_Edit(str6)"
      ],
      "execution_count": 0,
      "outputs": [
        {
          "output_type": "execute_result",
          "data": {
            "text/plain": [
              "'DU20'"
            ]
          },
          "metadata": {
            "tags": []
          },
          "execution_count": 24
        }
      ]
    },
    {
      "cell_type": "code",
      "metadata": {
        "id": "zauWBnL8LY5p",
        "colab_type": "code",
        "outputId": "b1472b2b-c5e5-4ca7-ab41-1c46edf905c4",
        "colab": {
          "base_uri": "https://localhost:8080/",
          "height": 405
        }
      },
      "source": [
        "data1['new_Selected']= data1['new_Selected'].apply(lambda x:x.replace(x,str(Selection_Edit(x))))\n",
        "data1"
      ],
      "execution_count": 0,
      "outputs": [
        {
          "output_type": "execute_result",
          "data": {
            "text/html": [
              "<div>\n",
              "<style scoped>\n",
              "    .dataframe tbody tr th:only-of-type {\n",
              "        vertical-align: middle;\n",
              "    }\n",
              "\n",
              "    .dataframe tbody tr th {\n",
              "        vertical-align: top;\n",
              "    }\n",
              "\n",
              "    .dataframe thead th {\n",
              "        text-align: right;\n",
              "    }\n",
              "</style>\n",
              "<table border=\"1\" class=\"dataframe\">\n",
              "  <thead>\n",
              "    <tr style=\"text-align: right;\">\n",
              "      <th></th>\n",
              "      <th>User_Id</th>\n",
              "      <th>Patient_Id</th>\n",
              "      <th>Symptom1</th>\n",
              "      <th>Symptom2</th>\n",
              "      <th>Recommended</th>\n",
              "      <th>Selected</th>\n",
              "      <th>new_Selected</th>\n",
              "    </tr>\n",
              "  </thead>\n",
              "  <tbody>\n",
              "    <tr>\n",
              "      <th>0</th>\n",
              "      <td>1001</td>\n",
              "      <td>1</td>\n",
              "      <td>Sinusitis</td>\n",
              "      <td>Tonsillitis</td>\n",
              "      <td>Baihui(DU20)</td>\n",
              "      <td>BaihuiDU20</td>\n",
              "      <td>DU20</td>\n",
              "    </tr>\n",
              "    <tr>\n",
              "      <th>1</th>\n",
              "      <td>1001</td>\n",
              "      <td>1</td>\n",
              "      <td>Sinusitis</td>\n",
              "      <td>Tonsillitis</td>\n",
              "      <td>Dazhui(DU14)</td>\n",
              "      <td>DazhuiDU14</td>\n",
              "      <td>DU14</td>\n",
              "    </tr>\n",
              "    <tr>\n",
              "      <th>2</th>\n",
              "      <td>1001</td>\n",
              "      <td>1</td>\n",
              "      <td>Sinusitis</td>\n",
              "      <td>Tonsillitis</td>\n",
              "      <td>Hegu(LI4)</td>\n",
              "      <td>HeguLI4</td>\n",
              "      <td>LI4</td>\n",
              "    </tr>\n",
              "    <tr>\n",
              "      <th>3</th>\n",
              "      <td>1001</td>\n",
              "      <td>1</td>\n",
              "      <td>Sinusitis</td>\n",
              "      <td>Tonsillitis</td>\n",
              "      <td>Quanliao(SI18)</td>\n",
              "      <td>QuchiLI11</td>\n",
              "      <td>LI11</td>\n",
              "    </tr>\n",
              "    <tr>\n",
              "      <th>4</th>\n",
              "      <td>1001</td>\n",
              "      <td>1</td>\n",
              "      <td>Sinusitis</td>\n",
              "      <td>Tonsillitis</td>\n",
              "      <td>Quchi(LI11)</td>\n",
              "      <td>SanyinjiaoSP6</td>\n",
              "      <td>SP6</td>\n",
              "    </tr>\n",
              "    <tr>\n",
              "      <th>...</th>\n",
              "      <td>...</td>\n",
              "      <td>...</td>\n",
              "      <td>...</td>\n",
              "      <td>...</td>\n",
              "      <td>...</td>\n",
              "      <td>...</td>\n",
              "      <td>...</td>\n",
              "    </tr>\n",
              "    <tr>\n",
              "      <th>941</th>\n",
              "      <td>1001</td>\n",
              "      <td>100</td>\n",
              "      <td>Sore_throat</td>\n",
              "      <td>Tonsillitis</td>\n",
              "      <td>Quchi(LI11)</td>\n",
              "      <td>nan</td>\n",
              "      <td>None</td>\n",
              "    </tr>\n",
              "    <tr>\n",
              "      <th>942</th>\n",
              "      <td>1001</td>\n",
              "      <td>100</td>\n",
              "      <td>Sore_throat</td>\n",
              "      <td>Tonsillitis</td>\n",
              "      <td>Sanyinjiao(SP6)</td>\n",
              "      <td>nan</td>\n",
              "      <td>None</td>\n",
              "    </tr>\n",
              "    <tr>\n",
              "      <th>943</th>\n",
              "      <td>1001</td>\n",
              "      <td>100</td>\n",
              "      <td>Sore_throat</td>\n",
              "      <td>Tonsillitis</td>\n",
              "      <td>Shaoshang(LU11)</td>\n",
              "      <td>nan</td>\n",
              "      <td>None</td>\n",
              "    </tr>\n",
              "    <tr>\n",
              "      <th>944</th>\n",
              "      <td>1001</td>\n",
              "      <td>100</td>\n",
              "      <td>Sore_throat</td>\n",
              "      <td>Tonsillitis</td>\n",
              "      <td>Taixi(K3)</td>\n",
              "      <td>nan</td>\n",
              "      <td>None</td>\n",
              "    </tr>\n",
              "    <tr>\n",
              "      <th>945</th>\n",
              "      <td>1001</td>\n",
              "      <td>100</td>\n",
              "      <td>Sore_throat</td>\n",
              "      <td>Tonsillitis</td>\n",
              "      <td>Tianrong(SI17)</td>\n",
              "      <td>nan</td>\n",
              "      <td>None</td>\n",
              "    </tr>\n",
              "  </tbody>\n",
              "</table>\n",
              "<p>946 rows × 7 columns</p>\n",
              "</div>"
            ],
            "text/plain": [
              "     User_Id  Patient_Id  ...       Selected new_Selected\n",
              "0       1001           1  ...     BaihuiDU20         DU20\n",
              "1       1001           1  ...     DazhuiDU14         DU14\n",
              "2       1001           1  ...        HeguLI4          LI4\n",
              "3       1001           1  ...      QuchiLI11         LI11\n",
              "4       1001           1  ...  SanyinjiaoSP6          SP6\n",
              "..       ...         ...  ...            ...          ...\n",
              "941     1001         100  ...            nan         None\n",
              "942     1001         100  ...            nan         None\n",
              "943     1001         100  ...            nan         None\n",
              "944     1001         100  ...            nan         None\n",
              "945     1001         100  ...            nan         None\n",
              "\n",
              "[946 rows x 7 columns]"
            ]
          },
          "metadata": {
            "tags": []
          },
          "execution_count": 25
        }
      ]
    },
    {
      "cell_type": "code",
      "metadata": {
        "id": "kGBxA82jLYzn",
        "colab_type": "code",
        "outputId": "5abc8df5-6ba8-4e15-ac94-40274a12e1c4",
        "colab": {
          "base_uri": "https://localhost:8080/",
          "height": 68
        }
      },
      "source": [
        "data1['new_Selected'].unique()"
      ],
      "execution_count": 0,
      "outputs": [
        {
          "output_type": "execute_result",
          "data": {
            "text/plain": [
              "array(['DU20', 'DU14', 'LI4', 'LI11', 'SP6', 'None', 'UB20', 'Ren5',\n",
              "       'Ren9', 'SP9', 'SI17', 'Ren23', 'LI18', 'Ren22', 'H5'],\n",
              "      dtype=object)"
            ]
          },
          "metadata": {
            "tags": []
          },
          "execution_count": 27
        }
      ]
    },
    {
      "cell_type": "code",
      "metadata": {
        "id": "uuiVIPPILYcr",
        "colab_type": "code",
        "colab": {}
      },
      "source": [
        "def recommenadation_edit_2(str1):\n",
        "  str1=str(str1)\n",
        "  length = len(str1)\n",
        "  count=0\n",
        "  for i in range(0,length):\n",
        "    if(str1[i]=='('):\n",
        "        str1 = str1[i+1:]\n",
        "        return str1"
      ],
      "execution_count": 0,
      "outputs": []
    },
    {
      "cell_type": "code",
      "metadata": {
        "id": "1FC6RMObUZdV",
        "colab_type": "code",
        "outputId": "63cd6e6d-eb17-4ebd-be4d-2fb863008a7c",
        "colab": {
          "base_uri": "https://localhost:8080/",
          "height": 405
        }
      },
      "source": [
        "data1['New_Recommended_2']= data1['Recommended'].apply(lambda x:x.replace(')',''))\n",
        "data1['New_Recommended_2']= data1['New_Recommended_2'].apply(lambda x:x.replace(x,str(recommenadation_edit_2(x))))\n",
        "data1"
      ],
      "execution_count": 0,
      "outputs": [
        {
          "output_type": "execute_result",
          "data": {
            "text/html": [
              "<div>\n",
              "<style scoped>\n",
              "    .dataframe tbody tr th:only-of-type {\n",
              "        vertical-align: middle;\n",
              "    }\n",
              "\n",
              "    .dataframe tbody tr th {\n",
              "        vertical-align: top;\n",
              "    }\n",
              "\n",
              "    .dataframe thead th {\n",
              "        text-align: right;\n",
              "    }\n",
              "</style>\n",
              "<table border=\"1\" class=\"dataframe\">\n",
              "  <thead>\n",
              "    <tr style=\"text-align: right;\">\n",
              "      <th></th>\n",
              "      <th>User_Id</th>\n",
              "      <th>Patient_Id</th>\n",
              "      <th>Symptom1</th>\n",
              "      <th>Symptom2</th>\n",
              "      <th>Recommended</th>\n",
              "      <th>Selected</th>\n",
              "      <th>new_Selected</th>\n",
              "      <th>New_Recommended_2</th>\n",
              "    </tr>\n",
              "  </thead>\n",
              "  <tbody>\n",
              "    <tr>\n",
              "      <th>0</th>\n",
              "      <td>1001</td>\n",
              "      <td>1</td>\n",
              "      <td>Sinusitis</td>\n",
              "      <td>Tonsillitis</td>\n",
              "      <td>Baihui(DU20)</td>\n",
              "      <td>BaihuiDU20</td>\n",
              "      <td>DU20</td>\n",
              "      <td>DU20</td>\n",
              "    </tr>\n",
              "    <tr>\n",
              "      <th>1</th>\n",
              "      <td>1001</td>\n",
              "      <td>1</td>\n",
              "      <td>Sinusitis</td>\n",
              "      <td>Tonsillitis</td>\n",
              "      <td>Dazhui(DU14)</td>\n",
              "      <td>DazhuiDU14</td>\n",
              "      <td>DU14</td>\n",
              "      <td>DU14</td>\n",
              "    </tr>\n",
              "    <tr>\n",
              "      <th>2</th>\n",
              "      <td>1001</td>\n",
              "      <td>1</td>\n",
              "      <td>Sinusitis</td>\n",
              "      <td>Tonsillitis</td>\n",
              "      <td>Hegu(LI4)</td>\n",
              "      <td>HeguLI4</td>\n",
              "      <td>LI4</td>\n",
              "      <td>LI4</td>\n",
              "    </tr>\n",
              "    <tr>\n",
              "      <th>3</th>\n",
              "      <td>1001</td>\n",
              "      <td>1</td>\n",
              "      <td>Sinusitis</td>\n",
              "      <td>Tonsillitis</td>\n",
              "      <td>Quanliao(SI18)</td>\n",
              "      <td>QuchiLI11</td>\n",
              "      <td>LI11</td>\n",
              "      <td>SI18</td>\n",
              "    </tr>\n",
              "    <tr>\n",
              "      <th>4</th>\n",
              "      <td>1001</td>\n",
              "      <td>1</td>\n",
              "      <td>Sinusitis</td>\n",
              "      <td>Tonsillitis</td>\n",
              "      <td>Quchi(LI11)</td>\n",
              "      <td>SanyinjiaoSP6</td>\n",
              "      <td>SP6</td>\n",
              "      <td>LI11</td>\n",
              "    </tr>\n",
              "    <tr>\n",
              "      <th>...</th>\n",
              "      <td>...</td>\n",
              "      <td>...</td>\n",
              "      <td>...</td>\n",
              "      <td>...</td>\n",
              "      <td>...</td>\n",
              "      <td>...</td>\n",
              "      <td>...</td>\n",
              "      <td>...</td>\n",
              "    </tr>\n",
              "    <tr>\n",
              "      <th>941</th>\n",
              "      <td>1001</td>\n",
              "      <td>100</td>\n",
              "      <td>Sore_throat</td>\n",
              "      <td>Tonsillitis</td>\n",
              "      <td>Quchi(LI11)</td>\n",
              "      <td>nan</td>\n",
              "      <td>None</td>\n",
              "      <td>LI11</td>\n",
              "    </tr>\n",
              "    <tr>\n",
              "      <th>942</th>\n",
              "      <td>1001</td>\n",
              "      <td>100</td>\n",
              "      <td>Sore_throat</td>\n",
              "      <td>Tonsillitis</td>\n",
              "      <td>Sanyinjiao(SP6)</td>\n",
              "      <td>nan</td>\n",
              "      <td>None</td>\n",
              "      <td>SP6</td>\n",
              "    </tr>\n",
              "    <tr>\n",
              "      <th>943</th>\n",
              "      <td>1001</td>\n",
              "      <td>100</td>\n",
              "      <td>Sore_throat</td>\n",
              "      <td>Tonsillitis</td>\n",
              "      <td>Shaoshang(LU11)</td>\n",
              "      <td>nan</td>\n",
              "      <td>None</td>\n",
              "      <td>LU11</td>\n",
              "    </tr>\n",
              "    <tr>\n",
              "      <th>944</th>\n",
              "      <td>1001</td>\n",
              "      <td>100</td>\n",
              "      <td>Sore_throat</td>\n",
              "      <td>Tonsillitis</td>\n",
              "      <td>Taixi(K3)</td>\n",
              "      <td>nan</td>\n",
              "      <td>None</td>\n",
              "      <td>K3</td>\n",
              "    </tr>\n",
              "    <tr>\n",
              "      <th>945</th>\n",
              "      <td>1001</td>\n",
              "      <td>100</td>\n",
              "      <td>Sore_throat</td>\n",
              "      <td>Tonsillitis</td>\n",
              "      <td>Tianrong(SI17)</td>\n",
              "      <td>nan</td>\n",
              "      <td>None</td>\n",
              "      <td>SI17</td>\n",
              "    </tr>\n",
              "  </tbody>\n",
              "</table>\n",
              "<p>946 rows × 8 columns</p>\n",
              "</div>"
            ],
            "text/plain": [
              "     User_Id  Patient_Id  ... new_Selected New_Recommended_2\n",
              "0       1001           1  ...         DU20              DU20\n",
              "1       1001           1  ...         DU14              DU14\n",
              "2       1001           1  ...          LI4               LI4\n",
              "3       1001           1  ...         LI11              SI18\n",
              "4       1001           1  ...          SP6              LI11\n",
              "..       ...         ...  ...          ...               ...\n",
              "941     1001         100  ...         None              LI11\n",
              "942     1001         100  ...         None               SP6\n",
              "943     1001         100  ...         None              LU11\n",
              "944     1001         100  ...         None                K3\n",
              "945     1001         100  ...         None              SI17\n",
              "\n",
              "[946 rows x 8 columns]"
            ]
          },
          "metadata": {
            "tags": []
          },
          "execution_count": 29
        }
      ]
    },
    {
      "cell_type": "code",
      "metadata": {
        "id": "iPUqDYeCUeVE",
        "colab_type": "code",
        "outputId": "ff0f8683-d59d-4992-d83f-b39a70877e79",
        "colab": {
          "base_uri": "https://localhost:8080/",
          "height": 85
        }
      },
      "source": [
        "data1['New_Recommended_2'].unique()"
      ],
      "execution_count": 0,
      "outputs": [
        {
          "output_type": "execute_result",
          "data": {
            "text/plain": [
              "array(['DU20', 'DU14', 'LI4', 'SI18', 'LI11', 'SP6', 'LU11', 'SI17',\n",
              "       'SP10', 'GB14', 'Ex.3', 'LU6', 'LI19', 'DU23', 'DU25', 'Ren23',\n",
              "       'Ex.17', 'UB13', 'ST40', 'LU7', 'Ren4', 'UB20', 'Ren5', 'Ren9',\n",
              "       'SP9', 'LI18', 'Ren22', 'H5', 'LU9', 'K3'], dtype=object)"
            ]
          },
          "metadata": {
            "tags": []
          },
          "execution_count": 30
        }
      ]
    }
  ]
}