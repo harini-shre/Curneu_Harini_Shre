{
  "nbformat": 4,
  "nbformat_minor": 0,
  "metadata": {
    "colab": {
      "name": "curneudataset2.ipynb",
      "provenance": [],
      "collapsed_sections": [],
      "authorship_tag": "ABX9TyMFooa6j5fm9q3Kb4wUi/C4",
      "include_colab_link": true
    },
    "kernelspec": {
      "name": "python3",
      "display_name": "Python 3"
    }
  },
  "cells": [
    {
      "cell_type": "markdown",
      "metadata": {
        "id": "view-in-github",
        "colab_type": "text"
      },
      "source": [
        "<a href=\"https://colab.research.google.com/github/harini-shre/Curneu_Harini_Shre/blob/master/curneudataset2.ipynb\" target=\"_parent\"><img src=\"https://colab.research.google.com/assets/colab-badge.svg\" alt=\"Open In Colab\"/></a>"
      ]
    },
    {
      "cell_type": "code",
      "metadata": {
        "id": "Lz_8i8wJ8WAd",
        "colab_type": "code",
        "outputId": "3799f4cf-2fd2-4198-85e0-f92343145c38",
        "colab": {
          "resources": {
            "http://localhost:8080/nbextensions/google.colab/files.js": {
              "data": "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",
              "ok": true,
              "headers": [
                [
                  "content-type",
                  "application/javascript"
                ]
              ],
              "status": 200,
              "status_text": ""
            }
          },
          "base_uri": "https://localhost:8080/",
          "height": 39
        }
      },
      "source": [
        "from google.colab import files\n",
        "uploaded = files.upload()"
      ],
      "execution_count": 0,
      "outputs": [
        {
          "output_type": "display_data",
          "data": {
            "text/html": [
              "\n",
              "     <input type=\"file\" id=\"files-bc1e68af-7f17-4148-bafd-0f56a90a819b\" name=\"files[]\" multiple disabled />\n",
              "     <output id=\"result-bc1e68af-7f17-4148-bafd-0f56a90a819b\">\n",
              "      Upload widget is only available when the cell has been executed in the\n",
              "      current browser session. Please rerun this cell to enable.\n",
              "      </output>\n",
              "      <script src=\"/nbextensions/google.colab/files.js\"></script> "
            ],
            "text/plain": [
              "<IPython.core.display.HTML object>"
            ]
          },
          "metadata": {
            "tags": []
          }
        }
      ]
    },
    {
      "cell_type": "code",
      "metadata": {
        "id": "goNwEwOS9C6w",
        "colab_type": "code",
        "outputId": "f9e523a8-1724-48c6-979b-97c91b6ce845",
        "colab": {
          "base_uri": "https://localhost:8080/",
          "height": 190
        }
      },
      "source": [
        "import pandas as pd\n",
        "data2 = pd.read_csv('User2data.csv')\n",
        "data2.head()"
      ],
      "execution_count": 0,
      "outputs": [
        {
          "output_type": "execute_result",
          "data": {
            "text/html": [
              "<div>\n",
              "<style scoped>\n",
              "    .dataframe tbody tr th:only-of-type {\n",
              "        vertical-align: middle;\n",
              "    }\n",
              "\n",
              "    .dataframe tbody tr th {\n",
              "        vertical-align: top;\n",
              "    }\n",
              "\n",
              "    .dataframe thead th {\n",
              "        text-align: right;\n",
              "    }\n",
              "</style>\n",
              "<table border=\"1\" class=\"dataframe\">\n",
              "  <thead>\n",
              "    <tr style=\"text-align: right;\">\n",
              "      <th></th>\n",
              "      <th>User_Id</th>\n",
              "      <th>Patient_Id</th>\n",
              "      <th>Symptom1</th>\n",
              "      <th>Symptom2</th>\n",
              "      <th>Recommended</th>\n",
              "      <th>Selected</th>\n",
              "    </tr>\n",
              "  </thead>\n",
              "  <tbody>\n",
              "    <tr>\n",
              "      <th>0</th>\n",
              "      <td>1002</td>\n",
              "      <td>1</td>\n",
              "      <td>Cardiac_disorders</td>\n",
              "      <td>Heart_pain</td>\n",
              "      <td>BipayU.Ex.</td>\n",
              "      <td>BipayU.Ex.</td>\n",
              "    </tr>\n",
              "    <tr>\n",
              "      <th>1</th>\n",
              "      <td>1002</td>\n",
              "      <td>1</td>\n",
              "      <td>Cardiac_disorders</td>\n",
              "      <td>Heart_pain</td>\n",
              "      <td>HeguLI4</td>\n",
              "      <td>HeguLI4</td>\n",
              "    </tr>\n",
              "    <tr>\n",
              "      <th>2</th>\n",
              "      <td>1002</td>\n",
              "      <td>1</td>\n",
              "      <td>Cardiac_disorders</td>\n",
              "      <td>Heart_pain</td>\n",
              "      <td>JueyinshuUB14</td>\n",
              "      <td>JueyinshuUB14</td>\n",
              "    </tr>\n",
              "    <tr>\n",
              "      <th>3</th>\n",
              "      <td>1002</td>\n",
              "      <td>1</td>\n",
              "      <td>Cardiac_disorders</td>\n",
              "      <td>Heart_pain</td>\n",
              "      <td>NeiguanP6</td>\n",
              "      <td>NeiguanP6</td>\n",
              "    </tr>\n",
              "    <tr>\n",
              "      <th>4</th>\n",
              "      <td>1002</td>\n",
              "      <td>1</td>\n",
              "      <td>Cardiac_disorders</td>\n",
              "      <td>Heart_pain</td>\n",
              "      <td>RugenST18</td>\n",
              "      <td>RugenST18</td>\n",
              "    </tr>\n",
              "  </tbody>\n",
              "</table>\n",
              "</div>"
            ],
            "text/plain": [
              "   User_Id  Patient_Id  ...    Recommended       Selected\n",
              "0     1002           1  ...     BipayU.Ex.     BipayU.Ex.\n",
              "1     1002           1  ...        HeguLI4        HeguLI4\n",
              "2     1002           1  ...  JueyinshuUB14  JueyinshuUB14\n",
              "3     1002           1  ...      NeiguanP6      NeiguanP6\n",
              "4     1002           1  ...      RugenST18      RugenST18\n",
              "\n",
              "[5 rows x 6 columns]"
            ]
          },
          "metadata": {
            "tags": []
          },
          "execution_count": 106
        }
      ]
    },
    {
      "cell_type": "code",
      "metadata": {
        "id": "nPCS5O3Y9C-v",
        "colab_type": "code",
        "outputId": "c882645a-58b3-4cba-fb61-87196ac9fb1f",
        "colab": {
          "base_uri": "https://localhost:8080/",
          "height": 201
        }
      },
      "source": [
        "data2.info()"
      ],
      "execution_count": 0,
      "outputs": [
        {
          "output_type": "stream",
          "text": [
            "<class 'pandas.core.frame.DataFrame'>\n",
            "RangeIndex: 876 entries, 0 to 875\n",
            "Data columns (total 6 columns):\n",
            "User_Id        876 non-null int64\n",
            "Patient_Id     876 non-null int64\n",
            "Symptom1       876 non-null object\n",
            "Symptom2       876 non-null object\n",
            "Recommended    876 non-null object\n",
            "Selected       407 non-null object\n",
            "dtypes: int64(2), object(4)\n",
            "memory usage: 41.2+ KB\n"
          ],
          "name": "stdout"
        }
      ]
    },
    {
      "cell_type": "code",
      "metadata": {
        "id": "2kWRFDz49DBz",
        "colab_type": "code",
        "outputId": "f61b47a4-63a8-4ddf-d2fa-333d7bee7a0c",
        "colab": {
          "base_uri": "https://localhost:8080/",
          "height": 168
        }
      },
      "source": [
        "data2['Selected'] = data2['Selected'].astype('str')\n",
        "data2['Selected'].unique()"
      ],
      "execution_count": 0,
      "outputs": [
        {
          "output_type": "execute_result",
          "data": {
            "text/plain": [
              "array(['BipayU.Ex.', 'HeguLI4', 'JueyinshuUB14', 'NeiguanP6', 'RugenST18',\n",
              "       'nan', 'XinshuUB15', 'XuanzhongGB39', 'YanglingquanGB34',\n",
              "       'ZusanliST36', 'SanyinjiaoSP6', 'RenzhongDU26', 'YongquanK1',\n",
              "       'BaihuiDU20', 'ShanzhongRen17', 'ShenmenH7', 'QuchiLI11',\n",
              "       'DazhuiDU14', 'PishuUB20', 'ShimenRen5', 'ShuifenRen9',\n",
              "       'YinlingquanSP9', 'TianrongSI17', 'LianquanRen23', 'Neck-FutuLI18',\n",
              "       'TiantuRen22', 'TongliH5', 'KongzuiLU6', 'LiequeLU7',\n",
              "       'DingchuanEx.17', 'FeishuUB13', 'FenglongST40', 'TaixiK3'],\n",
              "      dtype=object)"
            ]
          },
          "metadata": {
            "tags": []
          },
          "execution_count": 108
        }
      ]
    },
    {
      "cell_type": "code",
      "metadata": {
        "id": "HJgT-ejzNij2",
        "colab_type": "code",
        "outputId": "ea556faa-e326-4bc7-b180-e83cfd28055f",
        "colab": {
          "base_uri": "https://localhost:8080/",
          "height": 201
        }
      },
      "source": [
        "data2['Recommended'].unique()"
      ],
      "execution_count": 0,
      "outputs": [
        {
          "output_type": "execute_result",
          "data": {
            "text/plain": [
              "array(['BipayU.Ex.', 'HeguLI4', 'JueyinshuUB14', 'NeiguanP6', 'RugenST18',\n",
              "       'ShanzhongRen17', 'ShenmenH7', 'XinshuUB15', 'BaihuiDU20',\n",
              "       'XuanzhongGB39', 'YanglingquanGB34', 'ZusanliST36', 'QuchiLI11',\n",
              "       'RenzhongDU26', 'SanyinjiaoSP6', 'YongquanK1', 'DazhuiDU14',\n",
              "       'QuanliaoSI18', 'ShaoshangLU11', 'TianrongSI17', 'XuehaiSP10',\n",
              "       'YangbaiGB14', 'YuyaoEx.3', 'KongzuiLU6', 'Nose-heliaoLI19',\n",
              "       'ShangxingDU23', 'SuliaoDU25', 'LianquanRen23', 'DingchuanEx.17',\n",
              "       'FeishuUB13', 'FenglongST40', 'LiequeLU7', 'GuanyuanRen4',\n",
              "       'PishuUB20', 'ShimenRen5', 'ShuifenRen9', 'YinlingquanSP9',\n",
              "       'Neck-FutuLI18', 'TiantuRen22', 'TongliH5', 'TaiyuanLU9',\n",
              "       'TaixiK3'], dtype=object)"
            ]
          },
          "metadata": {
            "tags": []
          },
          "execution_count": 109
        }
      ]
    },
    {
      "cell_type": "code",
      "metadata": {
        "id": "ee4KS0Rt9DEm",
        "colab_type": "code",
        "outputId": "db1c60c8-3cc6-4d25-bee3-9bc134792d7e",
        "colab": {
          "base_uri": "https://localhost:8080/",
          "height": 33
        }
      },
      "source": [
        "# number [1-9] are they are neither toupper or tolower\n",
        "num=['0','1','2','3','4','5','6','7','8','9','.']\n",
        "def Selection_Edit(str1):\n",
        "    count =0\n",
        "    \n",
        "    lengt= len(str1)\n",
        "    for i in range((lengt-1),-1,-1):\n",
        "        #print(str1[i])\n",
        "        if(str1[i] not in num):\n",
        "            #print(\"hi\")\n",
        "            str8=str1[i].isupper()\n",
        "            if(str8 == True):\n",
        "                count = count +1\n",
        "            str7=str1[i].islower()\n",
        "            #print(i)\n",
        "            if(str7 == True and count !=0):\n",
        "                str1=str1[i+1:]\n",
        "                count =0\n",
        "                return str1           \n",
        "\n",
        "str6='BaihaiDU20'\n",
        "str9='DingchuanEx.17'\n",
        "Selection_Edit(str6)\n",
        "Selection_Edit(str9)"
      ],
      "execution_count": 0,
      "outputs": [
        {
          "output_type": "execute_result",
          "data": {
            "text/plain": [
              "'Ex.17'"
            ]
          },
          "metadata": {
            "tags": []
          },
          "execution_count": 110
        }
      ]
    },
    {
      "cell_type": "code",
      "metadata": {
        "id": "rfbTBu0t9DHo",
        "colab_type": "code",
        "outputId": "28a29c15-2eaa-44fe-8350-a5d45b09aeee",
        "colab": {
          "base_uri": "https://localhost:8080/",
          "height": 392
        }
      },
      "source": [
        "data2['Selected']= data2['Selected'].apply(lambda x:x.replace(x,str(Selection_Edit(x))))\n",
        "data2"
      ],
      "execution_count": 0,
      "outputs": [
        {
          "output_type": "execute_result",
          "data": {
            "text/html": [
              "<div>\n",
              "<style scoped>\n",
              "    .dataframe tbody tr th:only-of-type {\n",
              "        vertical-align: middle;\n",
              "    }\n",
              "\n",
              "    .dataframe tbody tr th {\n",
              "        vertical-align: top;\n",
              "    }\n",
              "\n",
              "    .dataframe thead th {\n",
              "        text-align: right;\n",
              "    }\n",
              "</style>\n",
              "<table border=\"1\" class=\"dataframe\">\n",
              "  <thead>\n",
              "    <tr style=\"text-align: right;\">\n",
              "      <th></th>\n",
              "      <th>User_Id</th>\n",
              "      <th>Patient_Id</th>\n",
              "      <th>Symptom1</th>\n",
              "      <th>Symptom2</th>\n",
              "      <th>Recommended</th>\n",
              "      <th>Selected</th>\n",
              "    </tr>\n",
              "  </thead>\n",
              "  <tbody>\n",
              "    <tr>\n",
              "      <th>0</th>\n",
              "      <td>1002</td>\n",
              "      <td>1</td>\n",
              "      <td>Cardiac_disorders</td>\n",
              "      <td>Heart_pain</td>\n",
              "      <td>BipayU.Ex.</td>\n",
              "      <td>U.Ex.</td>\n",
              "    </tr>\n",
              "    <tr>\n",
              "      <th>1</th>\n",
              "      <td>1002</td>\n",
              "      <td>1</td>\n",
              "      <td>Cardiac_disorders</td>\n",
              "      <td>Heart_pain</td>\n",
              "      <td>HeguLI4</td>\n",
              "      <td>LI4</td>\n",
              "    </tr>\n",
              "    <tr>\n",
              "      <th>2</th>\n",
              "      <td>1002</td>\n",
              "      <td>1</td>\n",
              "      <td>Cardiac_disorders</td>\n",
              "      <td>Heart_pain</td>\n",
              "      <td>JueyinshuUB14</td>\n",
              "      <td>UB14</td>\n",
              "    </tr>\n",
              "    <tr>\n",
              "      <th>3</th>\n",
              "      <td>1002</td>\n",
              "      <td>1</td>\n",
              "      <td>Cardiac_disorders</td>\n",
              "      <td>Heart_pain</td>\n",
              "      <td>NeiguanP6</td>\n",
              "      <td>P6</td>\n",
              "    </tr>\n",
              "    <tr>\n",
              "      <th>4</th>\n",
              "      <td>1002</td>\n",
              "      <td>1</td>\n",
              "      <td>Cardiac_disorders</td>\n",
              "      <td>Heart_pain</td>\n",
              "      <td>RugenST18</td>\n",
              "      <td>ST18</td>\n",
              "    </tr>\n",
              "    <tr>\n",
              "      <th>...</th>\n",
              "      <td>...</td>\n",
              "      <td>...</td>\n",
              "      <td>...</td>\n",
              "      <td>...</td>\n",
              "      <td>...</td>\n",
              "      <td>...</td>\n",
              "    </tr>\n",
              "    <tr>\n",
              "      <th>871</th>\n",
              "      <td>1002</td>\n",
              "      <td>100</td>\n",
              "      <td>Dyspnoea</td>\n",
              "      <td>Ascites</td>\n",
              "      <td>LiequeLU7</td>\n",
              "      <td>UB20</td>\n",
              "    </tr>\n",
              "    <tr>\n",
              "      <th>872</th>\n",
              "      <td>1002</td>\n",
              "      <td>100</td>\n",
              "      <td>Dyspnoea</td>\n",
              "      <td>Ascites</td>\n",
              "      <td>PishuUB20</td>\n",
              "      <td>Ren5</td>\n",
              "    </tr>\n",
              "    <tr>\n",
              "      <th>873</th>\n",
              "      <td>1002</td>\n",
              "      <td>100</td>\n",
              "      <td>Dyspnoea</td>\n",
              "      <td>Ascites</td>\n",
              "      <td>ShimenRen5</td>\n",
              "      <td>None</td>\n",
              "    </tr>\n",
              "    <tr>\n",
              "      <th>874</th>\n",
              "      <td>1002</td>\n",
              "      <td>100</td>\n",
              "      <td>Dyspnoea</td>\n",
              "      <td>Ascites</td>\n",
              "      <td>ShuifenRen9</td>\n",
              "      <td>None</td>\n",
              "    </tr>\n",
              "    <tr>\n",
              "      <th>875</th>\n",
              "      <td>1002</td>\n",
              "      <td>100</td>\n",
              "      <td>Dyspnoea</td>\n",
              "      <td>Ascites</td>\n",
              "      <td>YinlingquanSP9</td>\n",
              "      <td>None</td>\n",
              "    </tr>\n",
              "  </tbody>\n",
              "</table>\n",
              "<p>876 rows × 6 columns</p>\n",
              "</div>"
            ],
            "text/plain": [
              "     User_Id  Patient_Id  ...     Recommended Selected\n",
              "0       1002           1  ...      BipayU.Ex.    U.Ex.\n",
              "1       1002           1  ...         HeguLI4      LI4\n",
              "2       1002           1  ...   JueyinshuUB14     UB14\n",
              "3       1002           1  ...       NeiguanP6       P6\n",
              "4       1002           1  ...       RugenST18     ST18\n",
              "..       ...         ...  ...             ...      ...\n",
              "871     1002         100  ...       LiequeLU7     UB20\n",
              "872     1002         100  ...       PishuUB20     Ren5\n",
              "873     1002         100  ...      ShimenRen5     None\n",
              "874     1002         100  ...     ShuifenRen9     None\n",
              "875     1002         100  ...  YinlingquanSP9     None\n",
              "\n",
              "[876 rows x 6 columns]"
            ]
          },
          "metadata": {
            "tags": []
          },
          "execution_count": 111
        }
      ]
    },
    {
      "cell_type": "code",
      "metadata": {
        "id": "eX56ma0e9DK1",
        "colab_type": "code",
        "outputId": "de44fe17-3534-45c5-a10f-9140c4f2cbf3",
        "colab": {
          "base_uri": "https://localhost:8080/",
          "height": 100
        }
      },
      "source": [
        "#data2['Selected'].unique()"
      ],
      "execution_count": 0,
      "outputs": [
        {
          "output_type": "execute_result",
          "data": {
            "text/plain": [
              "array(['U.Ex.', 'LI4', 'UB14', 'P6', 'ST18', 'None', 'UB15', 'GB39',\n",
              "       'GB34', 'ST36', 'SP6', 'DU26', 'K1', 'DU20', 'Ren17', 'H7', 'LI11',\n",
              "       'DU14', 'UB20', 'Ren5', 'Ren9', 'SP9', 'SI17', 'Ren23', 'LI18',\n",
              "       'Ren22', 'H5', 'LU6', 'LU7', 'Ex.17', 'UB13', 'ST40', 'K3'],\n",
              "      dtype=object)"
            ]
          },
          "metadata": {
            "tags": []
          },
          "execution_count": 112
        }
      ]
    },
    {
      "cell_type": "code",
      "metadata": {
        "id": "EPruffd19DQj",
        "colab_type": "code",
        "outputId": "452bd446-7859-48dd-ba78-b0ae49a7d90c",
        "colab": {
          "base_uri": "https://localhost:8080/",
          "height": 392
        }
      },
      "source": [
        "data2['Recommended']= data2['Recommended'].apply(lambda x:x.replace(x,str(Selection_Edit(x))))\n",
        "data2"
      ],
      "execution_count": 0,
      "outputs": [
        {
          "output_type": "execute_result",
          "data": {
            "text/html": [
              "<div>\n",
              "<style scoped>\n",
              "    .dataframe tbody tr th:only-of-type {\n",
              "        vertical-align: middle;\n",
              "    }\n",
              "\n",
              "    .dataframe tbody tr th {\n",
              "        vertical-align: top;\n",
              "    }\n",
              "\n",
              "    .dataframe thead th {\n",
              "        text-align: right;\n",
              "    }\n",
              "</style>\n",
              "<table border=\"1\" class=\"dataframe\">\n",
              "  <thead>\n",
              "    <tr style=\"text-align: right;\">\n",
              "      <th></th>\n",
              "      <th>User_Id</th>\n",
              "      <th>Patient_Id</th>\n",
              "      <th>Symptom1</th>\n",
              "      <th>Symptom2</th>\n",
              "      <th>Recommended</th>\n",
              "      <th>Selected</th>\n",
              "    </tr>\n",
              "  </thead>\n",
              "  <tbody>\n",
              "    <tr>\n",
              "      <th>0</th>\n",
              "      <td>1002</td>\n",
              "      <td>1</td>\n",
              "      <td>Cardiac_disorders</td>\n",
              "      <td>Heart_pain</td>\n",
              "      <td>U.Ex.</td>\n",
              "      <td>U.Ex.</td>\n",
              "    </tr>\n",
              "    <tr>\n",
              "      <th>1</th>\n",
              "      <td>1002</td>\n",
              "      <td>1</td>\n",
              "      <td>Cardiac_disorders</td>\n",
              "      <td>Heart_pain</td>\n",
              "      <td>LI4</td>\n",
              "      <td>LI4</td>\n",
              "    </tr>\n",
              "    <tr>\n",
              "      <th>2</th>\n",
              "      <td>1002</td>\n",
              "      <td>1</td>\n",
              "      <td>Cardiac_disorders</td>\n",
              "      <td>Heart_pain</td>\n",
              "      <td>UB14</td>\n",
              "      <td>UB14</td>\n",
              "    </tr>\n",
              "    <tr>\n",
              "      <th>3</th>\n",
              "      <td>1002</td>\n",
              "      <td>1</td>\n",
              "      <td>Cardiac_disorders</td>\n",
              "      <td>Heart_pain</td>\n",
              "      <td>P6</td>\n",
              "      <td>P6</td>\n",
              "    </tr>\n",
              "    <tr>\n",
              "      <th>4</th>\n",
              "      <td>1002</td>\n",
              "      <td>1</td>\n",
              "      <td>Cardiac_disorders</td>\n",
              "      <td>Heart_pain</td>\n",
              "      <td>ST18</td>\n",
              "      <td>ST18</td>\n",
              "    </tr>\n",
              "    <tr>\n",
              "      <th>...</th>\n",
              "      <td>...</td>\n",
              "      <td>...</td>\n",
              "      <td>...</td>\n",
              "      <td>...</td>\n",
              "      <td>...</td>\n",
              "      <td>...</td>\n",
              "    </tr>\n",
              "    <tr>\n",
              "      <th>871</th>\n",
              "      <td>1002</td>\n",
              "      <td>100</td>\n",
              "      <td>Dyspnoea</td>\n",
              "      <td>Ascites</td>\n",
              "      <td>LU7</td>\n",
              "      <td>UB20</td>\n",
              "    </tr>\n",
              "    <tr>\n",
              "      <th>872</th>\n",
              "      <td>1002</td>\n",
              "      <td>100</td>\n",
              "      <td>Dyspnoea</td>\n",
              "      <td>Ascites</td>\n",
              "      <td>UB20</td>\n",
              "      <td>Ren5</td>\n",
              "    </tr>\n",
              "    <tr>\n",
              "      <th>873</th>\n",
              "      <td>1002</td>\n",
              "      <td>100</td>\n",
              "      <td>Dyspnoea</td>\n",
              "      <td>Ascites</td>\n",
              "      <td>Ren5</td>\n",
              "      <td>None</td>\n",
              "    </tr>\n",
              "    <tr>\n",
              "      <th>874</th>\n",
              "      <td>1002</td>\n",
              "      <td>100</td>\n",
              "      <td>Dyspnoea</td>\n",
              "      <td>Ascites</td>\n",
              "      <td>Ren9</td>\n",
              "      <td>None</td>\n",
              "    </tr>\n",
              "    <tr>\n",
              "      <th>875</th>\n",
              "      <td>1002</td>\n",
              "      <td>100</td>\n",
              "      <td>Dyspnoea</td>\n",
              "      <td>Ascites</td>\n",
              "      <td>SP9</td>\n",
              "      <td>None</td>\n",
              "    </tr>\n",
              "  </tbody>\n",
              "</table>\n",
              "<p>876 rows × 6 columns</p>\n",
              "</div>"
            ],
            "text/plain": [
              "     User_Id  Patient_Id           Symptom1    Symptom2 Recommended Selected\n",
              "0       1002           1  Cardiac_disorders  Heart_pain       U.Ex.    U.Ex.\n",
              "1       1002           1  Cardiac_disorders  Heart_pain         LI4      LI4\n",
              "2       1002           1  Cardiac_disorders  Heart_pain        UB14     UB14\n",
              "3       1002           1  Cardiac_disorders  Heart_pain          P6       P6\n",
              "4       1002           1  Cardiac_disorders  Heart_pain        ST18     ST18\n",
              "..       ...         ...                ...         ...         ...      ...\n",
              "871     1002         100           Dyspnoea     Ascites         LU7     UB20\n",
              "872     1002         100           Dyspnoea     Ascites        UB20     Ren5\n",
              "873     1002         100           Dyspnoea     Ascites        Ren5     None\n",
              "874     1002         100           Dyspnoea     Ascites        Ren9     None\n",
              "875     1002         100           Dyspnoea     Ascites         SP9     None\n",
              "\n",
              "[876 rows x 6 columns]"
            ]
          },
          "metadata": {
            "tags": []
          },
          "execution_count": 114
        }
      ]
    },
    {
      "cell_type": "code",
      "metadata": {
        "id": "1jSezStqLenm",
        "colab_type": "code",
        "outputId": "a1c57f13-6310-43ea-f67a-9cc06554a623",
        "colab": {
          "base_uri": "https://localhost:8080/",
          "height": 117
        }
      },
      "source": [
        "data2['Recommended'].replace('None', np.nan, inplace=True)\n",
        "data2['Recommended'].unique()"
      ],
      "execution_count": 0,
      "outputs": [
        {
          "output_type": "execute_result",
          "data": {
            "text/plain": [
              "array(['U.Ex.', 'LI4', 'UB14', 'P6', 'ST18', 'Ren17', 'H7', 'UB15',\n",
              "       'DU20', 'GB39', 'GB34', 'ST36', 'LI11', 'DU26', 'SP6', 'K1',\n",
              "       'DU14', 'SI18', 'LU11', 'SI17', 'SP10', 'GB14', 'Ex.3', 'LU6',\n",
              "       'LI19', 'DU23', 'DU25', 'Ren23', 'Ex.17', 'UB13', 'ST40', 'LU7',\n",
              "       'Ren4', 'UB20', 'Ren5', 'Ren9', 'SP9', 'LI18', 'Ren22', 'H5',\n",
              "       'LU9', 'K3'], dtype=object)"
            ]
          },
          "metadata": {
            "tags": []
          },
          "execution_count": 118
        }
      ]
    },
    {
      "cell_type": "code",
      "metadata": {
        "id": "Bz1KdCnQLoUe",
        "colab_type": "code",
        "outputId": "badec858-716c-4f1f-956d-e03bfaddd3b0",
        "colab": {
          "base_uri": "https://localhost:8080/",
          "height": 84
        }
      },
      "source": [
        "data2['Selected'].replace('None', np.nan, inplace=True)\n",
        "data2['Selected'].unique()"
      ],
      "execution_count": 0,
      "outputs": [
        {
          "output_type": "execute_result",
          "data": {
            "text/plain": [
              "array(['U.Ex.', 'LI4', 'UB14', 'P6', 'ST18', nan, 'UB15', 'GB39', 'GB34',\n",
              "       'ST36', 'SP6', 'DU26', 'K1', 'DU20', 'Ren17', 'H7', 'LI11', 'DU14',\n",
              "       'UB20', 'Ren5', 'Ren9', 'SP9', 'SI17', 'Ren23', 'LI18', 'Ren22',\n",
              "       'H5', 'LU6', 'LU7', 'Ex.17', 'UB13', 'ST40', 'K3'], dtype=object)"
            ]
          },
          "metadata": {
            "tags": []
          },
          "execution_count": 119
        }
      ]
    },
    {
      "cell_type": "code",
      "metadata": {
        "id": "zJ-Wfi1yIuwA",
        "colab_type": "code",
        "colab": {}
      },
      "source": [
        ""
      ],
      "execution_count": 0,
      "outputs": []
    },
    {
      "cell_type": "code",
      "metadata": {
        "id": "4zQOTaxHIurk",
        "colab_type": "code",
        "colab": {}
      },
      "source": [
        ""
      ],
      "execution_count": 0,
      "outputs": []
    }
  ]
}